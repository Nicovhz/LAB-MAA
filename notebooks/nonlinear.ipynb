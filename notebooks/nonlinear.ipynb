{
 "cells": [
  {
   "cell_type": "markdown",
   "metadata": {},
   "source": [
    "<font size=\"5\">Section 2: non linear models</font>"
   ]
  },
  {
   "cell_type": "markdown",
   "metadata": {},
   "source": [
    "### Housekeeping\n",
    "\n",
    "#### import libraries\n",
    "\n",
    "pandas for data management, statsmodels, numpy and sklearn for analysis, matplotlib for visualization. Other libraries as needed for specific tasks (e.g. semopy for SEM). Remember to use the bash terminal or the enviroment manager to add libraries.\n",
    "\n",
    "#### read data\n",
    "\n",
    "Read data files using pandas as noted below. We can clean and organize data in many ways (for example, using the **dropna** command over a dataset).\n",
    "\n",
    "#### describe data\n",
    "\n",
    "There are many was to analyze data and do descriptive statistics. A good command to start is **head**, to describe a section of the data.\n"
   ]
  },
  {
   "cell_type": "code",
<<<<<<< Updated upstream
   "execution_count": 1,
=======
   "execution_count": 6,
>>>>>>> Stashed changes
   "metadata": {},
   "outputs": [],
   "source": [
    "import numpy as np\n",
    "import pandas as pd\n",
    "import matplotlib.pyplot as plt\n",
    "import statsmodels.api as sm\n",
    "import sklearn\n",
    "import scipy \n",
    "\n",
    "%matplotlib inline"
   ]
  },
  {
   "cell_type": "code",
<<<<<<< Updated upstream
   "execution_count": 2,
=======
   "execution_count": 7,
>>>>>>> Stashed changes
   "metadata": {},
   "outputs": [],
   "source": [
    "# higher ed data\n",
    "cned = pd.read_csv('../data/cned.csv')\n",
    "cned.dropna(inplace=True)"
   ]
  },
  {
   "cell_type": "code",
<<<<<<< Updated upstream
   "execution_count": 3,
=======
   "execution_count": 8,
>>>>>>> Stashed changes
   "metadata": {},
   "outputs": [
    {
     "data": {
      "text/html": [
       "<div>\n",
       "<style scoped>\n",
       "    .dataframe tbody tr th:only-of-type {\n",
       "        vertical-align: middle;\n",
       "    }\n",
       "\n",
       "    .dataframe tbody tr th {\n",
       "        vertical-align: top;\n",
       "    }\n",
       "\n",
       "    .dataframe thead th {\n",
       "        text-align: right;\n",
       "    }\n",
       "</style>\n",
       "<table border=\"1\" class=\"dataframe\">\n",
       "  <thead>\n",
       "    <tr style=\"text-align: right;\">\n",
       "      <th></th>\n",
       "      <th>region</th>\n",
       "      <th>idc</th>\n",
       "      <th>puntaje</th>\n",
       "      <th>nem</th>\n",
       "      <th>ingreso2</th>\n",
       "      <th>vacantes</th>\n",
       "      <th>ingreso</th>\n",
       "      <th>year</th>\n",
       "      <th>stem</th>\n",
       "      <th>area</th>\n",
       "    </tr>\n",
       "  </thead>\n",
       "  <tbody>\n",
       "    <tr>\n",
       "      <th>0</th>\n",
       "      <td>7</td>\n",
       "      <td>7404</td>\n",
       "      <td>713.0</td>\n",
       "      <td>645.0</td>\n",
       "      <td>26.0</td>\n",
       "      <td>38.0</td>\n",
       "      <td>138</td>\n",
       "      <td>2019</td>\n",
       "      <td>0</td>\n",
       "      <td>Art/Humanities</td>\n",
       "    </tr>\n",
       "    <tr>\n",
       "      <th>1</th>\n",
       "      <td>7</td>\n",
       "      <td>7405</td>\n",
       "      <td>643.0</td>\n",
       "      <td>637.0</td>\n",
       "      <td>28.0</td>\n",
       "      <td>39.0</td>\n",
       "      <td>104</td>\n",
       "      <td>2019</td>\n",
       "      <td>0</td>\n",
       "      <td>Art/Humanities</td>\n",
       "    </tr>\n",
       "    <tr>\n",
       "      <th>2</th>\n",
       "      <td>7</td>\n",
       "      <td>7402</td>\n",
       "      <td>674.0</td>\n",
       "      <td>692.0</td>\n",
       "      <td>278.0</td>\n",
       "      <td>314.0</td>\n",
       "      <td>1318</td>\n",
       "      <td>2019</td>\n",
       "      <td>0</td>\n",
       "      <td>Art/Humanities</td>\n",
       "    </tr>\n",
       "    <tr>\n",
       "      <th>3</th>\n",
       "      <td>7</td>\n",
       "      <td>7406</td>\n",
       "      <td>663.0</td>\n",
       "      <td>655.0</td>\n",
       "      <td>79.0</td>\n",
       "      <td>103.0</td>\n",
       "      <td>438</td>\n",
       "      <td>2019</td>\n",
       "      <td>0</td>\n",
       "      <td>Art/Humanities</td>\n",
       "    </tr>\n",
       "    <tr>\n",
       "      <th>4</th>\n",
       "      <td>7</td>\n",
       "      <td>7408</td>\n",
       "      <td>642.0</td>\n",
       "      <td>610.0</td>\n",
       "      <td>41.0</td>\n",
       "      <td>59.0</td>\n",
       "      <td>148</td>\n",
       "      <td>2019</td>\n",
       "      <td>0</td>\n",
       "      <td>Art/Humanities</td>\n",
       "    </tr>\n",
       "  </tbody>\n",
       "</table>\n",
       "</div>"
      ],
      "text/plain": [
       "   region   idc  puntaje    nem  ingreso2  vacantes  ingreso  year  stem  \\\n",
       "0       7  7404    713.0  645.0      26.0      38.0      138  2019     0   \n",
       "1       7  7405    643.0  637.0      28.0      39.0      104  2019     0   \n",
       "2       7  7402    674.0  692.0     278.0     314.0     1318  2019     0   \n",
       "3       7  7406    663.0  655.0      79.0     103.0      438  2019     0   \n",
       "4       7  7408    642.0  610.0      41.0      59.0      148  2019     0   \n",
       "\n",
       "             area  \n",
       "0  Art/Humanities  \n",
       "1  Art/Humanities  \n",
       "2  Art/Humanities  \n",
       "3  Art/Humanities  \n",
       "4  Art/Humanities  "
      ]
     },
<<<<<<< Updated upstream
     "execution_count": 3,
=======
     "execution_count": 8,
>>>>>>> Stashed changes
     "metadata": {},
     "output_type": "execute_result"
    }
   ],
   "source": [
    "cned.reset_index(drop=True, inplace=True)\n",
    "cned.head()"
   ]
  },
  {
   "cell_type": "markdown",
   "metadata": {},
   "source": [
    "### OLS\n",
    "\n",
    "We can use statsmodels to estimate a simple OLS regression (linear probability model). "
   ]
  },
  {
   "cell_type": "code",
   "execution_count": 9,
   "metadata": {},
   "outputs": [
    {
     "name": "stdout",
     "output_type": "stream",
     "text": [
      "                            OLS Regression Results                            \n",
      "==============================================================================\n",
      "Dep. Variable:                   stem   R-squared:                       0.002\n",
      "Model:                            OLS   Adj. R-squared:                  0.002\n",
      "Method:                 Least Squares   F-statistic:                     5.016\n",
      "Date:                Wed, 31 Aug 2022   Prob (F-statistic):           0.000490\n",
      "Time:                        08:58:42   Log-Likelihood:                -5919.4\n",
      "No. Observations:                9065   AIC:                         1.185e+04\n",
      "Df Residuals:                    9060   BIC:                         1.188e+04\n",
      "Df Model:                           4                                         \n",
      "Covariance Type:            nonrobust                                         \n",
      "==============================================================================\n",
      "                 coef    std err          t      P>|t|      [0.025      0.975]\n",
      "------------------------------------------------------------------------------\n",
      "const          9.9501      4.999      1.990      0.047       0.151      19.749\n",
      "puntaje        0.0003      0.000      1.600      0.110   -7.38e-05       0.001\n",
      "nem           -0.0002      0.000     -1.289      0.198      -0.001       0.000\n",
      "vacantes      -0.0004      0.000     -3.732      0.000      -0.001      -0.000\n",
      "year          -0.0048      0.002     -1.934      0.053      -0.010    6.47e-05\n",
      "==============================================================================\n",
      "Omnibus:                   107523.746   Durbin-Watson:                   0.003\n",
      "Prob(Omnibus):                  0.000   Jarque-Bera (JB):             1641.860\n",
      "Skew:                           0.782   Prob(JB):                         0.00\n",
      "Kurtosis:                       1.622   Cond. No.                     2.23e+06\n",
      "==============================================================================\n",
      "\n",
      "Notes:\n",
      "[1] Standard Errors assume that the covariance matrix of the errors is correctly specified.\n",
      "[2] The condition number is large, 2.23e+06. This might indicate that there are\n",
      "strong multicollinearity or other numerical problems.\n"
     ]
    }
   ],
   "source": [
    "y=cned['stem']\n",
    "X=cned[['puntaje','nem','vacantes','year']]\n",
    "X=sm.add_constant(X)\n",
    "model = sm.OLS(y, X)\n",
    "results = model.fit()\n",
    "print(results.summary())"
   ]
  },
  {
   "cell_type": "markdown",
   "metadata": {},
   "source": [
    "### Probit\n",
    "\n"
   ]
  },
  {
   "cell_type": "code",
   "execution_count": 10,
   "metadata": {},
   "outputs": [
    {
     "name": "stdout",
     "output_type": "stream",
     "text": [
      "Optimization terminated successfully.\n",
      "         Current function value: 0.623654\n",
      "         Iterations 5\n",
      "                          Probit Regression Results                           \n",
      "==============================================================================\n",
      "Dep. Variable:                   stem   No. Observations:                 9065\n",
      "Model:                         Probit   Df Residuals:                     9060\n",
      "Method:                           MLE   Df Model:                            4\n",
      "Date:                Wed, 31 Aug 2022   Pseudo R-squ.:                0.001818\n",
      "Time:                        08:58:45   Log-Likelihood:                -5653.4\n",
      "converged:                       True   LL-Null:                       -5663.7\n",
      "Covariance Type:            nonrobust   LLR p-value:                 0.0003804\n",
      "==============================================================================\n",
      "                 coef    std err          z      P>|z|      [0.025      0.975]\n",
      "------------------------------------------------------------------------------\n",
      "const         26.6035     14.039      1.895      0.058      -0.912      54.119\n",
      "puntaje        0.0010      0.001      1.646      0.100      -0.000       0.002\n",
      "nem           -0.0007      0.001     -1.321      0.187      -0.002       0.000\n",
      "vacantes      -0.0013      0.000     -3.763      0.000      -0.002      -0.001\n",
      "year          -0.0135      0.007     -1.936      0.053      -0.027       0.000\n",
      "==============================================================================\n",
      "       Probit Marginal Effects       \n",
      "=====================================\n",
      "Dep. Variable:                   stem\n",
      "Method:                          dydx\n",
      "At:                           overall\n",
      "==============================================================================\n",
      "                dy/dx    std err          z      P>|z|      [0.025      0.975]\n",
      "------------------------------------------------------------------------------\n",
      "puntaje        0.0003      0.000      1.647      0.100    -6.5e-05       0.001\n",
      "nem           -0.0002      0.000     -1.321      0.186      -0.001       0.000\n",
      "vacantes      -0.0005      0.000     -3.771      0.000      -0.001      -0.000\n",
      "year          -0.0048      0.002     -1.938      0.053      -0.010    5.55e-05\n",
      "==============================================================================\n"
     ]
    }
   ],
   "source": [
    "model = sm.Probit(y, X)\n",
    "probit_model = model.fit()\n",
    "print(probit_model.summary())\n",
    "\n",
    "mfx = probit_model.get_margeff()\n",
    "print(mfx.summary())"
   ]
  },
  {
   "cell_type": "markdown",
   "metadata": {},
   "source": [
    "### Logit"
   ]
  },
  {
   "cell_type": "code",
   "execution_count": 12,
   "metadata": {},
   "outputs": [
    {
     "name": "stdout",
     "output_type": "stream",
     "text": [
      "Optimization terminated successfully.\n",
      "         Current function value: 0.623656\n",
      "         Iterations 6\n",
      "                           Logit Regression Results                           \n",
      "==============================================================================\n",
      "Dep. Variable:                   stem   No. Observations:                 9065\n",
      "Model:                          Logit   Df Residuals:                     9060\n",
      "Method:                           MLE   Df Model:                            4\n",
      "Date:                Thu, 21 Jul 2022   Pseudo R-squ.:                0.001816\n",
      "Time:                        22:34:57   Log-Likelihood:                -5653.4\n",
      "converged:                       True   LL-Null:                       -5663.7\n",
      "Covariance Type:            nonrobust   LLR p-value:                 0.0003859\n",
      "==============================================================================\n",
      "                 coef    std err          z      P>|z|      [0.025      0.975]\n",
      "------------------------------------------------------------------------------\n",
      "const         43.8868     23.134      1.897      0.058      -1.455      89.229\n",
      "puntaje        0.0015      0.001      1.602      0.109      -0.000       0.003\n",
      "nem           -0.0010      0.001     -1.278      0.201      -0.003       0.001\n",
      "vacantes      -0.0021      0.001     -3.712      0.000      -0.003      -0.001\n",
      "year          -0.0222      0.011     -1.937      0.053      -0.045       0.000\n",
      "==============================================================================\n",
      "        Logit Marginal Effects       \n",
      "=====================================\n",
      "Dep. Variable:                   stem\n",
      "Method:                          dydx\n",
      "At:                           overall\n",
      "==============================================================================\n",
      "                dy/dx    std err          z      P>|z|      [0.025      0.975]\n",
      "------------------------------------------------------------------------------\n",
      "puntaje        0.0003      0.000      1.603      0.109   -7.27e-05       0.001\n",
      "nem           -0.0002      0.000     -1.279      0.201      -0.001       0.000\n",
      "vacantes      -0.0005      0.000     -3.721      0.000      -0.001      -0.000\n",
      "year          -0.0048      0.002     -1.939      0.053      -0.010    5.29e-05\n",
      "==============================================================================\n"
     ]
    }
   ],
   "source": [
    "model = sm.Logit(y, X)\n",
    "logit_model = model.fit()\n",
    "print(logit_model.summary())\n",
    "\n",
    "mfx = logit_model.get_margeff()\n",
    "print(mfx.summary())"
   ]
  },
  {
   "cell_type": "markdown",
   "metadata": {},
   "source": [
    "### Poisson"
   ]
  },
  {
   "cell_type": "code",
   "execution_count": 32,
   "metadata": {},
   "outputs": [
    {
     "data": {
      "text/plain": [
       "array([-3.69681979e-05, -1.44322476e-04,  6.55270509e-03, -4.53041362e-05])"
      ]
     },
     "execution_count": 32,
     "metadata": {},
     "output_type": "execute_result"
    }
   ],
   "source": [
    "from sklearn import linear_model\n",
    "poisson = linear_model.PoissonRegressor()\n",
    "\n",
    "subset=cned.loc[cned['ingreso']<100]\n",
    "y=subset['ingreso']\n",
    "X=subset[['puntaje','nem','vacantes','year']]\n",
    "poisson.fit(X, y)\n",
    "poisson.coef_\n"
   ]
  },
  {
   "cell_type": "markdown",
   "metadata": {},
   "source": [
    "<font size=\"3\">**Homework**</font>\n",
    "\n",
    "Load junaeb.csv dataset, clean data and produce descriptive statistics\n",
    "\n",
    "Run OLS on the probability of fathers living at home\n",
    " \n",
    "Run Probit on the probability of fathers living at home\n",
    "\n",
    "Run Logit on the probability of fathers living at home\n",
    "\n",
    "Discuss the results of the different probability models\n",
    "\n",
    "Run Poisson on the number of household members (n_personas)"
   ]
  }
 ],
 "metadata": {
  "hide_input": false,
  "kernelspec": {
   "display_name": "Python 3 (ipykernel)",
   "language": "python",
   "name": "python3"
  },
  "language_info": {
   "codemirror_mode": {
    "name": "ipython",
    "version": 3
   },
   "file_extension": ".py",
   "mimetype": "text/x-python",
   "name": "python",
   "nbconvert_exporter": "python",
   "pygments_lexer": "ipython3",
   "version": "3.9.12"
  },
  "latex_envs": {
   "LaTeX_envs_menu_present": true,
   "autoclose": true,
   "autocomplete": true,
   "bibliofile": "biblio.bib",
   "cite_by": "apalike",
   "current_citInitial": 1,
   "eqLabelWithNumbers": true,
   "eqNumInitial": 1,
   "hotkeys": {
    "equation": "Ctrl-E",
    "itemize": "Ctrl-I"
   },
   "labels_anchors": false,
   "latex_user_defs": false,
   "report_style_numbering": false,
   "user_envs_cfg": false
  },
  "toc": {
   "base_numbering": 1,
   "nav_menu": {},
   "number_sections": true,
   "sideBar": true,
   "skip_h1_title": true,
   "title_cell": "Table of Contents",
   "title_sidebar": "Contents",
   "toc_cell": false,
   "toc_position": {
    "height": "calc(100% - 180px)",
    "left": "10px",
    "top": "150px",
    "width": "165px"
   },
   "toc_section_display": true,
   "toc_window_display": true
  }
 },
 "nbformat": 4,
 "nbformat_minor": 2
}
